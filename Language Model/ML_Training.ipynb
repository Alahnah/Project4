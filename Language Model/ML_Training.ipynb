{
 "cells": [
  {
   "cell_type": "markdown",
   "metadata": {},
   "source": [
    "Training model using kaggle Dataset"
   ]
  },
  {
   "cell_type": "code",
   "execution_count": 307,
   "metadata": {},
   "outputs": [],
   "source": [
    "#importing \n",
    "\n",
    "import numpy as np\n",
    "import pandas as pd\n",
    "\n",
    "import matplotlib.pyplot  as plt\n",
    "\n",
    "from sklearn.model_selection import train_test_split\n",
    "from sklearn.metrics import confusion_matrix,accuracy_score\n",
    "\n",
    "from tensorflow import keras\n",
    "from tensorflow.keras import layers\n",
    "\n",
    "\n",
    "import tensorflow as tf\n",
    "from tensorflow.keras.layers import TextVectorization\n",
    "\n",
    "\n",
    "\n",
    "\n",
    "#Reading data from CSV  -- May need to edit to read from sql using alchemy\n",
    "data = pd.read_csv('fake_job_postings.csv')"
   ]
  },
  {
   "cell_type": "code",
   "execution_count": 308,
   "metadata": {},
   "outputs": [
    {
     "data": {
      "text/html": [
       "<div>\n",
       "<style scoped>\n",
       "    .dataframe tbody tr th:only-of-type {\n",
       "        vertical-align: middle;\n",
       "    }\n",
       "\n",
       "    .dataframe tbody tr th {\n",
       "        vertical-align: top;\n",
       "    }\n",
       "\n",
       "    .dataframe thead th {\n",
       "        text-align: right;\n",
       "    }\n",
       "</style>\n",
       "<table border=\"1\" class=\"dataframe\">\n",
       "  <thead>\n",
       "    <tr style=\"text-align: right;\">\n",
       "      <th></th>\n",
       "      <th>job_id</th>\n",
       "      <th>title</th>\n",
       "      <th>location</th>\n",
       "      <th>department</th>\n",
       "      <th>salary_range</th>\n",
       "      <th>company_profile</th>\n",
       "      <th>description</th>\n",
       "      <th>requirements</th>\n",
       "      <th>benefits</th>\n",
       "      <th>telecommuting</th>\n",
       "      <th>has_company_logo</th>\n",
       "      <th>has_questions</th>\n",
       "      <th>employment_type</th>\n",
       "      <th>required_experience</th>\n",
       "      <th>required_education</th>\n",
       "      <th>industry</th>\n",
       "      <th>function</th>\n",
       "      <th>fraudulent</th>\n",
       "    </tr>\n",
       "  </thead>\n",
       "  <tbody>\n",
       "    <tr>\n",
       "      <th>0</th>\n",
       "      <td>1</td>\n",
       "      <td>Marketing Intern</td>\n",
       "      <td>US, NY, New York</td>\n",
       "      <td>Marketing</td>\n",
       "      <td>NaN</td>\n",
       "      <td>We're Food52, and we've created a groundbreaki...</td>\n",
       "      <td>Food52, a fast-growing, James Beard Award-winn...</td>\n",
       "      <td>Experience with content management systems a m...</td>\n",
       "      <td>NaN</td>\n",
       "      <td>0</td>\n",
       "      <td>1</td>\n",
       "      <td>0</td>\n",
       "      <td>Other</td>\n",
       "      <td>Internship</td>\n",
       "      <td>NaN</td>\n",
       "      <td>NaN</td>\n",
       "      <td>Marketing</td>\n",
       "      <td>0</td>\n",
       "    </tr>\n",
       "    <tr>\n",
       "      <th>1</th>\n",
       "      <td>2</td>\n",
       "      <td>Customer Service - Cloud Video Production</td>\n",
       "      <td>NZ, , Auckland</td>\n",
       "      <td>Success</td>\n",
       "      <td>NaN</td>\n",
       "      <td>90 Seconds, the worlds Cloud Video Production ...</td>\n",
       "      <td>Organised - Focused - Vibrant - Awesome!Do you...</td>\n",
       "      <td>What we expect from you:Your key responsibilit...</td>\n",
       "      <td>What you will get from usThrough being part of...</td>\n",
       "      <td>0</td>\n",
       "      <td>1</td>\n",
       "      <td>0</td>\n",
       "      <td>Full-time</td>\n",
       "      <td>Not Applicable</td>\n",
       "      <td>NaN</td>\n",
       "      <td>Marketing and Advertising</td>\n",
       "      <td>Customer Service</td>\n",
       "      <td>0</td>\n",
       "    </tr>\n",
       "    <tr>\n",
       "      <th>2</th>\n",
       "      <td>3</td>\n",
       "      <td>Commissioning Machinery Assistant (CMA)</td>\n",
       "      <td>US, IA, Wever</td>\n",
       "      <td>NaN</td>\n",
       "      <td>NaN</td>\n",
       "      <td>Valor Services provides Workforce Solutions th...</td>\n",
       "      <td>Our client, located in Houston, is actively se...</td>\n",
       "      <td>Implement pre-commissioning and commissioning ...</td>\n",
       "      <td>NaN</td>\n",
       "      <td>0</td>\n",
       "      <td>1</td>\n",
       "      <td>0</td>\n",
       "      <td>NaN</td>\n",
       "      <td>NaN</td>\n",
       "      <td>NaN</td>\n",
       "      <td>NaN</td>\n",
       "      <td>NaN</td>\n",
       "      <td>0</td>\n",
       "    </tr>\n",
       "    <tr>\n",
       "      <th>3</th>\n",
       "      <td>4</td>\n",
       "      <td>Account Executive - Washington DC</td>\n",
       "      <td>US, DC, Washington</td>\n",
       "      <td>Sales</td>\n",
       "      <td>NaN</td>\n",
       "      <td>Our passion for improving quality of life thro...</td>\n",
       "      <td>THE COMPANY: ESRI – Environmental Systems Rese...</td>\n",
       "      <td>EDUCATION: Bachelor’s or Master’s in GIS, busi...</td>\n",
       "      <td>Our culture is anything but corporate—we have ...</td>\n",
       "      <td>0</td>\n",
       "      <td>1</td>\n",
       "      <td>0</td>\n",
       "      <td>Full-time</td>\n",
       "      <td>Mid-Senior level</td>\n",
       "      <td>Bachelor's Degree</td>\n",
       "      <td>Computer Software</td>\n",
       "      <td>Sales</td>\n",
       "      <td>0</td>\n",
       "    </tr>\n",
       "    <tr>\n",
       "      <th>4</th>\n",
       "      <td>5</td>\n",
       "      <td>Bill Review Manager</td>\n",
       "      <td>US, FL, Fort Worth</td>\n",
       "      <td>NaN</td>\n",
       "      <td>NaN</td>\n",
       "      <td>SpotSource Solutions LLC is a Global Human Cap...</td>\n",
       "      <td>JOB TITLE: Itemization Review ManagerLOCATION:...</td>\n",
       "      <td>QUALIFICATIONS:RN license in the State of Texa...</td>\n",
       "      <td>Full Benefits Offered</td>\n",
       "      <td>0</td>\n",
       "      <td>1</td>\n",
       "      <td>1</td>\n",
       "      <td>Full-time</td>\n",
       "      <td>Mid-Senior level</td>\n",
       "      <td>Bachelor's Degree</td>\n",
       "      <td>Hospital &amp; Health Care</td>\n",
       "      <td>Health Care Provider</td>\n",
       "      <td>0</td>\n",
       "    </tr>\n",
       "  </tbody>\n",
       "</table>\n",
       "</div>"
      ],
      "text/plain": [
       "   job_id                                      title            location  \\\n",
       "0       1                           Marketing Intern    US, NY, New York   \n",
       "1       2  Customer Service - Cloud Video Production      NZ, , Auckland   \n",
       "2       3    Commissioning Machinery Assistant (CMA)       US, IA, Wever   \n",
       "3       4          Account Executive - Washington DC  US, DC, Washington   \n",
       "4       5                        Bill Review Manager  US, FL, Fort Worth   \n",
       "\n",
       "  department salary_range                                    company_profile  \\\n",
       "0  Marketing          NaN  We're Food52, and we've created a groundbreaki...   \n",
       "1    Success          NaN  90 Seconds, the worlds Cloud Video Production ...   \n",
       "2        NaN          NaN  Valor Services provides Workforce Solutions th...   \n",
       "3      Sales          NaN  Our passion for improving quality of life thro...   \n",
       "4        NaN          NaN  SpotSource Solutions LLC is a Global Human Cap...   \n",
       "\n",
       "                                         description  \\\n",
       "0  Food52, a fast-growing, James Beard Award-winn...   \n",
       "1  Organised - Focused - Vibrant - Awesome!Do you...   \n",
       "2  Our client, located in Houston, is actively se...   \n",
       "3  THE COMPANY: ESRI – Environmental Systems Rese...   \n",
       "4  JOB TITLE: Itemization Review ManagerLOCATION:...   \n",
       "\n",
       "                                        requirements  \\\n",
       "0  Experience with content management systems a m...   \n",
       "1  What we expect from you:Your key responsibilit...   \n",
       "2  Implement pre-commissioning and commissioning ...   \n",
       "3  EDUCATION: Bachelor’s or Master’s in GIS, busi...   \n",
       "4  QUALIFICATIONS:RN license in the State of Texa...   \n",
       "\n",
       "                                            benefits  telecommuting  \\\n",
       "0                                                NaN              0   \n",
       "1  What you will get from usThrough being part of...              0   \n",
       "2                                                NaN              0   \n",
       "3  Our culture is anything but corporate—we have ...              0   \n",
       "4                              Full Benefits Offered              0   \n",
       "\n",
       "   has_company_logo  has_questions employment_type required_experience  \\\n",
       "0                 1              0           Other          Internship   \n",
       "1                 1              0       Full-time      Not Applicable   \n",
       "2                 1              0             NaN                 NaN   \n",
       "3                 1              0       Full-time    Mid-Senior level   \n",
       "4                 1              1       Full-time    Mid-Senior level   \n",
       "\n",
       "  required_education                   industry              function  \\\n",
       "0                NaN                        NaN             Marketing   \n",
       "1                NaN  Marketing and Advertising      Customer Service   \n",
       "2                NaN                        NaN                   NaN   \n",
       "3  Bachelor's Degree          Computer Software                 Sales   \n",
       "4  Bachelor's Degree     Hospital & Health Care  Health Care Provider   \n",
       "\n",
       "   fraudulent  \n",
       "0           0  \n",
       "1           0  \n",
       "2           0  \n",
       "3           0  \n",
       "4           0  "
      ]
     },
     "execution_count": 308,
     "metadata": {},
     "output_type": "execute_result"
    }
   ],
   "source": [
    "#Displaying training Data\n",
    "data.head(5)"
   ]
  },
  {
   "cell_type": "code",
   "execution_count": 309,
   "metadata": {},
   "outputs": [
    {
     "name": "stdout",
     "output_type": "stream",
     "text": [
      "<class 'pandas.core.frame.DataFrame'>\n",
      "RangeIndex: 17880 entries, 0 to 17879\n",
      "Data columns (total 18 columns):\n",
      " #   Column               Non-Null Count  Dtype \n",
      "---  ------               --------------  ----- \n",
      " 0   job_id               17880 non-null  int64 \n",
      " 1   title                17880 non-null  object\n",
      " 2   location             17534 non-null  object\n",
      " 3   department           6333 non-null   object\n",
      " 4   salary_range         2868 non-null   object\n",
      " 5   company_profile      14572 non-null  object\n",
      " 6   description          17879 non-null  object\n",
      " 7   requirements         15184 non-null  object\n",
      " 8   benefits             10668 non-null  object\n",
      " 9   telecommuting        17880 non-null  int64 \n",
      " 10  has_company_logo     17880 non-null  int64 \n",
      " 11  has_questions        17880 non-null  int64 \n",
      " 12  employment_type      14409 non-null  object\n",
      " 13  required_experience  10830 non-null  object\n",
      " 14  required_education   9775 non-null   object\n",
      " 15  industry             12977 non-null  object\n",
      " 16  function             11425 non-null  object\n",
      " 17  fraudulent           17880 non-null  int64 \n",
      "dtypes: int64(5), object(13)\n",
      "memory usage: 2.5+ MB\n"
     ]
    }
   ],
   "source": [
    "data.info()"
   ]
  },
  {
   "cell_type": "code",
   "execution_count": 310,
   "metadata": {},
   "outputs": [
    {
     "data": {
      "image/png": "[encoded data removed]",
      "text/plain": [
       "<Figure size 640x480 with 1 Axes>"
      ]
     },
     "metadata": {},
     "output_type": "display_data"
    }
   ],
   "source": [
    "#Checking how much of the data is fraud vs legit\n",
    "\n",
    "x = data['fraudulent'].value_counts()\n",
    "fig, ax = plt.subplots()\n",
    "titles = ['Legitiment', 'Fraud']\n",
    "ax.bar(titles, x )\n",
    "plt.show()"
   ]
  },
  {
   "cell_type": "code",
   "execution_count": 311,
   "metadata": {},
   "outputs": [],
   "source": [
    "#Defining features and the target to be used for training the model based upon avalable data from web scraping app\n",
    "features = data[['description','benefits']]\n",
    "target = data['fraudulent']\n"
   ]
  },
  {
   "cell_type": "code",
   "execution_count": 312,
   "metadata": {},
   "outputs": [
    {
     "name": "stderr",
     "output_type": "stream",
     "text": [
      "C:\\Users\\aloll\\AppData\\Local\\Temp\\ipykernel_18664\\3974032206.py:4: SettingWithCopyWarning: \n",
      "A value is trying to be set on a copy of a slice from a DataFrame\n",
      "\n",
      "See the caveats in the documentation: https://pandas.pydata.org/pandas-docs/stable/user_guide/indexing.html#returning-a-view-versus-a-copy\n",
      "  features.fillna(\" \",inplace=True)\n"
     ]
    },
    {
     "data": {
      "text/plain": [
       "description    0\n",
       "benefits       0\n",
       "dtype: int64"
      ]
     },
     "execution_count": 312,
     "metadata": {},
     "output_type": "execute_result"
    }
   ],
   "source": [
    "#replacing NA with space  \n",
    "features.fillna(\" \",inplace=True)\n",
    "features.isnull().sum()\n"
   ]
  },
  {
   "cell_type": "code",
   "execution_count": 313,
   "metadata": {},
   "outputs": [],
   "source": [
    "#Change each entry into a single string\n",
    "# \\xa0 is a unicode no-break space that is prevelent in a few of the entries that needed to be removed \n",
    "\n",
    "concat_data = []\n",
    "for i in range(len(features)):\n",
    "    entry = features['description'][i] + ' '\n",
    "    #entry = entry + features['requirements'][i] + ' '\n",
    "    entry = entry + features['benefits'][i] \n",
    "    concat_data.append(entry.strip().replace('\\xa0', ''))"
   ]
  },
  {
   "cell_type": "code",
   "execution_count": 314,
   "metadata": {
    "tags": [
     "Test"
    ]
   },
   "outputs": [
    {
     "data": {
      "text/plain": [
       "'Job Summary:    This position is established to actively participate with the renal dialysis staff by providing basic bed side care as well as functioning as a technician skilled in all aspects of hemodialysis under the direction of the RN.    Essential Duties:     Performs treatment and patient care procedures according to unit policy and procedures.   Demonstrates and adheres to Infection Control Policies.   Documents care provided according to hospital policy.   Expresses appropriate communication to patient, families, and other customers.   Provides care according to developmental age.   Promotes safety and prevents falls.   Demonstrates flexibility to accomplish work tasks.      Qualifications    Education:     High school diploma or equivalent required.   Dialysis or other medical coursework preferred.    Experience:     One year of experience as a dialysis services technician including the preparation, operation and maintenance of kidney dialysis equipment preferred.    License/Certification:     BLS certification required.    Additional Responsibilities:     Demonstrates a commitment to service, organization values and professionalism through appropriate conduct and demeanor at all times.   Adheres to and exhibits our core values:   Compassion: Feeling with others, being one with others in their sorrows and joys, rooted in the sense of solidarity as members of the human community.   Excellence: Outstanding achievement, merit, virtue; continually surpassing standards to achieve/maintain quality.   Maintains confidentiality and protects sensitive data at all times.   Adheres to organizational and department specific safety standards and guidelines.   Works collaboratively and supports efforts of team members.   Demonstrates exceptional customer service and interacts effectively with physicians, patients, residents, visitors, staff and the broader health care community.'"
      ]
     },
     "execution_count": 314,
     "metadata": {},
     "output_type": "execute_result"
    }
   ],
   "source": [
    "concat_data[8719]"
   ]
  },
  {
   "cell_type": "code",
   "execution_count": 315,
   "metadata": {},
   "outputs": [
    {
     "name": "stdout",
     "output_type": "stream",
     "text": [
      "268.0\n"
     ]
    }
   ],
   "source": [
    "#finding the rough count of words in the 3rd quartile to pass to the tokenizers max length\n",
    "\n",
    "seq_lens = [seq.count(' ') for seq in concat_data]\n",
    "q3 = np.quantile(seq_lens,.75)\n",
    "print(q3)"
   ]
  },
  {
   "cell_type": "code",
   "execution_count": 316,
   "metadata": {},
   "outputs": [],
   "source": [
    "#creating a class to change the text into numbers first stripping punctuation and upper case\n",
    "\n",
    "vectorize_layer = TextVectorization(max_tokens=10000, standardize='lower_and_strip_punctuation', output_sequence_length=268)\n",
    "\n",
    "#Toeknizing the data\n",
    "vectorize_layer.adapt(concat_data)"
   ]
  },
  {
   "cell_type": "code",
   "execution_count": 317,
   "metadata": {},
   "outputs": [
    {
     "name": "stdout",
     "output_type": "stream",
     "text": [
      "559/559 [==============================] - 1s 2ms/step\n"
     ]
    }
   ],
   "source": [
    "#Using tf to extract the tokenized data\n",
    "# Model can be used to map future datasets and keep tokens consitent\n",
    "\n",
    "tokenizer = tf.keras.models.Sequential()\n",
    "tokenizer.add(tf.keras.Input(shape=(1,), dtype=tf.string))\n",
    "tokenizer.add(vectorize_layer)\n",
    "x_tokens = tokenizer.predict(concat_data)"
   ]
  },
  {
   "cell_type": "code",
   "execution_count": 318,
   "metadata": {},
   "outputs": [
    {
     "data": {
      "text/plain": [
       "array([  50, 2308,   27,   53,   11,  538,    3,  966,  708,    9,    4,\n",
       "          1, 8672,  193,   34,  264,  615, 4424, 1716,  138,   17,   70,\n",
       "         17, 3843,   17,    6, 1463, 1048,    7,   23,  476,    5,    1,\n",
       "        597,    4,  512,    5,    4, 3223,  739,  173, 1703, 1277,    2,\n",
       "        707,  138,  329,  879,    3, 1202,  831,    2,  329, 3096,    2,\n",
       "       6671,    3,    1,  422,  502,  545,  138,  414,  879,    3, 1632,\n",
       "        831,    1,  370,  140,    3,  707, 1610,    2,   43,   64,  419,\n",
       "        138,  879,    3, 2416, 1149, 3147,  307,    2,    1, 4085, 3096,\n",
       "        664,    3, 2429,   21,  231,  981,  561,  103,  514, 2156,   26,\n",
       "       1294,  137, 8672,   26,   43,  249, 6370,  900,   33,  102,  245,\n",
       "          5,   33,   17,    6, 8672,   51, 1463,   57,    4, 1110,  938,\n",
       "          2,  338,    5,    1, 8672,  308,  900,    1,    1, 2027,  137,\n",
       "        661,  320, 3096,    6, 1204,    3,   45,  404,  808,    2, 2891,\n",
       "         85,  370, 1010,    2, 3979,   32,   23,  893, 6671,    3,    2,\n",
       "       7408,   10,  498,  808, 4469, 6497,    9,  670,  343,  102,    9,\n",
       "        670,    7,   40,    1,    2,    1, 7740,    7,    4, 1020,    5,\n",
       "          1,   17,  254,    5,    4,  697,  284, 1349,  773, 3101, 3570,\n",
       "          1, 2083,    1,  354,    3,    1,   81, 1139, 2914,    2,    1,\n",
       "       3089,   55,   32,   23,  893, 6671,    3,  832,    2,  387,  464,\n",
       "        307,  354,    2,  884,  609, 1495,    2, 1506,  704,    5,   19,\n",
       "        254, 3096,  550,   36,   45,    2, 5338,  433,    9, 2594,  772,\n",
       "       2960, 2070,  193,    2,    4, 3546,  149,  138,  284,    0,    0,\n",
       "          0,    0,    0,    0,    0,    0,    0,    0,    0,    0,    0,\n",
       "          0,    0,    0,    0,    0,    0,    0,    0,    0,    0,    0,\n",
       "          0,    0,    0,    0], dtype=int64)"
      ]
     },
     "execution_count": 318,
     "metadata": {},
     "output_type": "execute_result"
    }
   ],
   "source": [
    "#confirming tokenization \n",
    "x_tokens[8719]"
   ]
  },
  {
   "cell_type": "code",
   "execution_count": 319,
   "metadata": {},
   "outputs": [
    {
     "name": "stdout",
     "output_type": "stream",
     "text": [
      "(14304, 268)\n",
      "(3576, 268)\n",
      "(14304,)\n",
      "(3576,)\n"
     ]
    }
   ],
   "source": [
    "#building testing and training groups for the model\n",
    "x_train,x_test,y_train,y_test = train_test_split(x_tokens,target,test_size=0.2,random_state=72)\n",
    "print(x_train.shape)\n",
    "print(x_test.shape)\n",
    "print(y_train.shape)\n",
    "print(y_test.shape)"
   ]
  },
  {
   "cell_type": "code",
   "execution_count": 320,
   "metadata": {},
   "outputs": [],
   "source": [
    "#setting input sizes for the first layer\n",
    "\n",
    "\n",
    "VOCAB_SIZE = 10000 + 2\n",
    "VEC_SIZE = 100\n",
    "TOKEN_SIZE = int(q3)"
   ]
  },
  {
   "cell_type": "code",
   "execution_count": 321,
   "metadata": {},
   "outputs": [],
   "source": [
    "#Creating the ml model\n",
    "#using CuDNNGRU \n",
    "\n",
    "from tensorflow.compat.v1.keras.layers import CuDNNGRU\n",
    "model = keras.Sequential()\n",
    "model.add(layers.Embedding(input_dim=VOCAB_SIZE,\n",
    "                           output_dim=VEC_SIZE,\n",
    "                           input_length=TOKEN_SIZE\n",
    "                          ))\n",
    "\n",
    "\n",
    "\n",
    "model.add(CuDNNGRU(512,return_sequences=True))\n",
    "model.add(CuDNNGRU(1024,return_sequences=True))\n",
    "model.add(CuDNNGRU(2048))\n",
    "model.add(layers.Dense(1,activation=\"sigmoid\"))\n",
    "\n",
    "model.compile(loss=\"binary_crossentropy\",optimizer=\"adam\",metrics=[\"accuracy\"])"
   ]
  },
  {
   "cell_type": "code",
   "execution_count": 322,
   "metadata": {},
   "outputs": [
    {
     "name": "stdout",
     "output_type": "stream",
     "text": [
      "Model: \"sequential_22\"\n",
      "_________________________________________________________________\n",
      " Layer (type)                Output Shape              Param #   \n",
      "=================================================================\n",
      " embedding_9 (Embedding)     (None, 268, 100)          1000200   \n",
      "                                                                 \n",
      " cu_dnngru_27 (CuDNNGRU)     (None, 268, 512)          943104    \n",
      "                                                                 \n",
      " cu_dnngru_28 (CuDNNGRU)     (None, 268, 1024)         4724736   \n",
      "                                                                 \n",
      " cu_dnngru_29 (CuDNNGRU)     (None, 2048)              18886656  \n",
      "                                                                 \n",
      " dense_9 (Dense)             (None, 1)                 2049      \n",
      "                                                                 \n",
      "=================================================================\n",
      "Total params: 25,556,745\n",
      "Trainable params: 25,556,745\n",
      "Non-trainable params: 0\n",
      "_________________________________________________________________\n"
     ]
    }
   ],
   "source": [
    "model.summary()"
   ]
  },
  {
   "cell_type": "code",
   "execution_count": 323,
   "metadata": {},
   "outputs": [
    {
     "name": "stdout",
     "output_type": "stream",
     "text": [
      "Epoch 1/2\n",
      "358/358 [==============================] - 28s 75ms/step - loss: 0.2065 - accuracy: 0.9498 - val_loss: nan - val_accuracy: 0.9521\n",
      "Epoch 2/2\n",
      "358/358 [==============================] - 26s 72ms/step - loss: nan - accuracy: 0.9504 - val_loss: nan - val_accuracy: 0.9521\n"
     ]
    }
   ],
   "source": [
    "#Training the model\n",
    "hist = model.fit(x_train,y_train,validation_split=0.2,epochs=2)"
   ]
  },
  {
   "cell_type": "code",
   "execution_count": 324,
   "metadata": {},
   "outputs": [
    {
     "name": "stdout",
     "output_type": "stream",
     "text": [
      "112/112 - 3s - loss: nan - accuracy: 0.9550 - 3s/epoch - 26ms/step\n",
      "Loss: nan, Accuracy: 0.9549776315689087\n"
     ]
    }
   ],
   "source": [
    "#Testing trained model to confirm its not over or under fitteded\n",
    "\n",
    "model_loss, model_accuracy = model.evaluate(x_test,y_test,verbose=2)\n",
    "\n",
    "print(f\"Loss: {model_loss}, Accuracy: {model_accuracy}\")"
   ]
  }
 ],
 "metadata": {
  "kernelspec": {
   "display_name": "tf",
   "language": "python",
   "name": "python3"
  },
  "language_info": {
   "codemirror_mode": {
    "name": "ipython",
    "version": 3
   },
   "file_extension": ".py",
   "mimetype": "text/x-python",
   "name": "python",
   "nbconvert_exporter": "python",
   "pygments_lexer": "ipython3",
   "version": "3.9.18"
  }
 },
 "nbformat": 4,
 "nbformat_minor": 2
}
