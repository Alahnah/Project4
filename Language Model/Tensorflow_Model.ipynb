{
 "cells": [
  {
   "cell_type": "markdown",
   "metadata": {},
   "source": [
    "Training model using kaggle Dataset"
   ]
  },
  {
   "cell_type": "code",
   "execution_count": 262,
   "metadata": {},
   "outputs": [],
   "source": [
    "#importing \n",
    "\n",
    "import numpy as np\n",
    "import pandas as pd\n",
    "\n",
    "import matplotlib.pyplot  as plt\n",
    "\n",
    "from sklearn.model_selection import train_test_split\n",
    "from sklearn.metrics import confusion_matrix,accuracy_score,ConfusionMatrixDisplay\n",
    "\n",
    "from tensorflow import keras\n",
    "from tensorflow.keras import layers\n",
    "\n",
    "\n",
    "import tensorflow as tf\n",
    "from tensorflow.keras.layers import TextVectorization\n",
    "\n",
    "\n",
    "\n",
    "\n",
    "#Reading data from CSV  \n",
    "data = pd.read_csv('/../fake_job_postings.csv')"
   ]
  },
  {
   "cell_type": "code",
   "execution_count": 263,
   "metadata": {},
   "outputs": [
    {
     "data": {
      "text/html": [
       "<div>\n",
       "<style scoped>\n",
       "    .dataframe tbody tr th:only-of-type {\n",
       "        vertical-align: middle;\n",
       "    }\n",
       "\n",
       "    .dataframe tbody tr th {\n",
       "        vertical-align: top;\n",
       "    }\n",
       "\n",
       "    .dataframe thead th {\n",
       "        text-align: right;\n",
       "    }\n",
       "</style>\n",
       "<table border=\"1\" class=\"dataframe\">\n",
       "  <thead>\n",
       "    <tr style=\"text-align: right;\">\n",
       "      <th></th>\n",
       "      <th>job_id</th>\n",
       "      <th>title</th>\n",
       "      <th>location</th>\n",
       "      <th>department</th>\n",
       "      <th>salary_range</th>\n",
       "      <th>company_profile</th>\n",
       "      <th>description</th>\n",
       "      <th>requirements</th>\n",
       "      <th>benefits</th>\n",
       "      <th>telecommuting</th>\n",
       "      <th>has_company_logo</th>\n",
       "      <th>has_questions</th>\n",
       "      <th>employment_type</th>\n",
       "      <th>required_experience</th>\n",
       "      <th>required_education</th>\n",
       "      <th>industry</th>\n",
       "      <th>function</th>\n",
       "      <th>fraudulent</th>\n",
       "    </tr>\n",
       "  </thead>\n",
       "  <tbody>\n",
       "    <tr>\n",
       "      <th>0</th>\n",
       "      <td>1</td>\n",
       "      <td>Marketing Intern</td>\n",
       "      <td>US, NY, New York</td>\n",
       "      <td>Marketing</td>\n",
       "      <td>NaN</td>\n",
       "      <td>We're Food52, and we've created a groundbreaki...</td>\n",
       "      <td>Food52, a fast-growing, James Beard Award-winn...</td>\n",
       "      <td>Experience with content management systems a m...</td>\n",
       "      <td>NaN</td>\n",
       "      <td>0</td>\n",
       "      <td>1</td>\n",
       "      <td>0</td>\n",
       "      <td>Other</td>\n",
       "      <td>Internship</td>\n",
       "      <td>NaN</td>\n",
       "      <td>NaN</td>\n",
       "      <td>Marketing</td>\n",
       "      <td>0</td>\n",
       "    </tr>\n",
       "    <tr>\n",
       "      <th>1</th>\n",
       "      <td>2</td>\n",
       "      <td>Customer Service - Cloud Video Production</td>\n",
       "      <td>NZ, , Auckland</td>\n",
       "      <td>Success</td>\n",
       "      <td>NaN</td>\n",
       "      <td>90 Seconds, the worlds Cloud Video Production ...</td>\n",
       "      <td>Organised - Focused - Vibrant - Awesome!Do you...</td>\n",
       "      <td>What we expect from you:Your key responsibilit...</td>\n",
       "      <td>What you will get from usThrough being part of...</td>\n",
       "      <td>0</td>\n",
       "      <td>1</td>\n",
       "      <td>0</td>\n",
       "      <td>Full-time</td>\n",
       "      <td>Not Applicable</td>\n",
       "      <td>NaN</td>\n",
       "      <td>Marketing and Advertising</td>\n",
       "      <td>Customer Service</td>\n",
       "      <td>0</td>\n",
       "    </tr>\n",
       "    <tr>\n",
       "      <th>2</th>\n",
       "      <td>3</td>\n",
       "      <td>Commissioning Machinery Assistant (CMA)</td>\n",
       "      <td>US, IA, Wever</td>\n",
       "      <td>NaN</td>\n",
       "      <td>NaN</td>\n",
       "      <td>Valor Services provides Workforce Solutions th...</td>\n",
       "      <td>Our client, located in Houston, is actively se...</td>\n",
       "      <td>Implement pre-commissioning and commissioning ...</td>\n",
       "      <td>NaN</td>\n",
       "      <td>0</td>\n",
       "      <td>1</td>\n",
       "      <td>0</td>\n",
       "      <td>NaN</td>\n",
       "      <td>NaN</td>\n",
       "      <td>NaN</td>\n",
       "      <td>NaN</td>\n",
       "      <td>NaN</td>\n",
       "      <td>0</td>\n",
       "    </tr>\n",
       "    <tr>\n",
       "      <th>3</th>\n",
       "      <td>4</td>\n",
       "      <td>Account Executive - Washington DC</td>\n",
       "      <td>US, DC, Washington</td>\n",
       "      <td>Sales</td>\n",
       "      <td>NaN</td>\n",
       "      <td>Our passion for improving quality of life thro...</td>\n",
       "      <td>THE COMPANY: ESRI – Environmental Systems Rese...</td>\n",
       "      <td>EDUCATION: Bachelor’s or Master’s in GIS, busi...</td>\n",
       "      <td>Our culture is anything but corporate—we have ...</td>\n",
       "      <td>0</td>\n",
       "      <td>1</td>\n",
       "      <td>0</td>\n",
       "      <td>Full-time</td>\n",
       "      <td>Mid-Senior level</td>\n",
       "      <td>Bachelor's Degree</td>\n",
       "      <td>Computer Software</td>\n",
       "      <td>Sales</td>\n",
       "      <td>0</td>\n",
       "    </tr>\n",
       "    <tr>\n",
       "      <th>4</th>\n",
       "      <td>5</td>\n",
       "      <td>Bill Review Manager</td>\n",
       "      <td>US, FL, Fort Worth</td>\n",
       "      <td>NaN</td>\n",
       "      <td>NaN</td>\n",
       "      <td>SpotSource Solutions LLC is a Global Human Cap...</td>\n",
       "      <td>JOB TITLE: Itemization Review ManagerLOCATION:...</td>\n",
       "      <td>QUALIFICATIONS:RN license in the State of Texa...</td>\n",
       "      <td>Full Benefits Offered</td>\n",
       "      <td>0</td>\n",
       "      <td>1</td>\n",
       "      <td>1</td>\n",
       "      <td>Full-time</td>\n",
       "      <td>Mid-Senior level</td>\n",
       "      <td>Bachelor's Degree</td>\n",
       "      <td>Hospital &amp; Health Care</td>\n",
       "      <td>Health Care Provider</td>\n",
       "      <td>0</td>\n",
       "    </tr>\n",
       "  </tbody>\n",
       "</table>\n",
       "</div>"
      ],
      "text/plain": [
       "   job_id                                      title            location  \\\n",
       "0       1                           Marketing Intern    US, NY, New York   \n",
       "1       2  Customer Service - Cloud Video Production      NZ, , Auckland   \n",
       "2       3    Commissioning Machinery Assistant (CMA)       US, IA, Wever   \n",
       "3       4          Account Executive - Washington DC  US, DC, Washington   \n",
       "4       5                        Bill Review Manager  US, FL, Fort Worth   \n",
       "\n",
       "  department salary_range                                    company_profile  \\\n",
       "0  Marketing          NaN  We're Food52, and we've created a groundbreaki...   \n",
       "1    Success          NaN  90 Seconds, the worlds Cloud Video Production ...   \n",
       "2        NaN          NaN  Valor Services provides Workforce Solutions th...   \n",
       "3      Sales          NaN  Our passion for improving quality of life thro...   \n",
       "4        NaN          NaN  SpotSource Solutions LLC is a Global Human Cap...   \n",
       "\n",
       "                                         description  \\\n",
       "0  Food52, a fast-growing, James Beard Award-winn...   \n",
       "1  Organised - Focused - Vibrant - Awesome!Do you...   \n",
       "2  Our client, located in Houston, is actively se...   \n",
       "3  THE COMPANY: ESRI – Environmental Systems Rese...   \n",
       "4  JOB TITLE: Itemization Review ManagerLOCATION:...   \n",
       "\n",
       "                                        requirements  \\\n",
       "0  Experience with content management systems a m...   \n",
       "1  What we expect from you:Your key responsibilit...   \n",
       "2  Implement pre-commissioning and commissioning ...   \n",
       "3  EDUCATION: Bachelor’s or Master’s in GIS, busi...   \n",
       "4  QUALIFICATIONS:RN license in the State of Texa...   \n",
       "\n",
       "                                            benefits  telecommuting  \\\n",
       "0                                                NaN              0   \n",
       "1  What you will get from usThrough being part of...              0   \n",
       "2                                                NaN              0   \n",
       "3  Our culture is anything but corporate—we have ...              0   \n",
       "4                              Full Benefits Offered              0   \n",
       "\n",
       "   has_company_logo  has_questions employment_type required_experience  \\\n",
       "0                 1              0           Other          Internship   \n",
       "1                 1              0       Full-time      Not Applicable   \n",
       "2                 1              0             NaN                 NaN   \n",
       "3                 1              0       Full-time    Mid-Senior level   \n",
       "4                 1              1       Full-time    Mid-Senior level   \n",
       "\n",
       "  required_education                   industry              function  \\\n",
       "0                NaN                        NaN             Marketing   \n",
       "1                NaN  Marketing and Advertising      Customer Service   \n",
       "2                NaN                        NaN                   NaN   \n",
       "3  Bachelor's Degree          Computer Software                 Sales   \n",
       "4  Bachelor's Degree     Hospital & Health Care  Health Care Provider   \n",
       "\n",
       "   fraudulent  \n",
       "0           0  \n",
       "1           0  \n",
       "2           0  \n",
       "3           0  \n",
       "4           0  "
      ]
     },
     "execution_count": 263,
     "metadata": {},
     "output_type": "execute_result"
    }
   ],
   "source": [
    "#Displaying training Data\n",
    "data.head(5)"
   ]
  },
  {
   "cell_type": "code",
   "execution_count": 264,
   "metadata": {},
   "outputs": [
    {
     "data": {
      "image/png": "[encoded data removed]",
      "text/plain": [
       "<Figure size 640x480 with 1 Axes>"
      ]
     },
     "metadata": {},
     "output_type": "display_data"
    }
   ],
   "source": [
    "#Checking how much of the data is fraud vs legit\n",
    "\n",
    "x = data['fraudulent'].value_counts()\n",
    "fig, ax = plt.subplots()\n",
    "titles = ['legitimate', 'Fraud']\n",
    "ax.bar(titles, x )\n",
    "plt.show()"
   ]
  },
  {
   "cell_type": "code",
   "execution_count": 265,
   "metadata": {},
   "outputs": [],
   "source": [
    "#When training with 95% not fraud the model just predicts not fraud on all entries leaving it unable to identify fraudulent entries\n",
    "\n",
    "fraud = data[data['fraudulent']== 1]\n",
    "\n",
    "#Adjusting legitimate entries avalable to training and testing dataset\n",
    "#Now adjusted for with class weithing when fitting model\n",
    "Legit = data[data['fraudulent']== 0][:8000]\n",
    "\n",
    "#Recombining fraudulent and reduced legitimate dataset\n",
    "data_reduced = pd.concat([fraud, Legit], ignore_index=True, axis=0)"
   ]
  },
  {
   "cell_type": "code",
   "execution_count": 266,
   "metadata": {},
   "outputs": [],
   "source": [
    "#Defining features and the target to be used for training the model based upon avalable data from web scraping app\n",
    "features = data_reduced[['title', 'location','description','benefits', 'requirements','employment_type' ]]\n",
    "target = data_reduced['fraudulent']\n"
   ]
  },
  {
   "cell_type": "code",
   "execution_count": 267,
   "metadata": {},
   "outputs": [
    {
     "name": "stderr",
     "output_type": "stream",
     "text": [
      "C:\\Users\\aloll\\AppData\\Local\\Temp\\ipykernel_32464\\1001746591.py:2: SettingWithCopyWarning: \n",
      "A value is trying to be set on a copy of a slice from a DataFrame\n",
      "\n",
      "See the caveats in the documentation: https://pandas.pydata.org/pandas-docs/stable/user_guide/indexing.html#returning-a-view-versus-a-copy\n",
      "  features.fillna(\" \",inplace=True)\n"
     ]
    },
    {
     "data": {
      "text/plain": [
       "title              0\n",
       "location           0\n",
       "description        0\n",
       "benefits           0\n",
       "requirements       0\n",
       "employment_type    0\n",
       "dtype: int64"
      ]
     },
     "execution_count": 267,
     "metadata": {},
     "output_type": "execute_result"
    }
   ],
   "source": [
    "#replacing NA with space  \n",
    "features.fillna(\" \",inplace=True)\n",
    "features.isnull().sum()\n"
   ]
  },
  {
   "cell_type": "code",
   "execution_count": 268,
   "metadata": {},
   "outputs": [
    {
     "data": {
      "text/plain": [
       "title                0\n",
       "description          1\n",
       "location            19\n",
       "requirements       154\n",
       "employment_type    241\n",
       "benefits           364\n",
       "company_profile    587\n",
       "dtype: int64"
      ]
     },
     "execution_count": 268,
     "metadata": {},
     "output_type": "execute_result"
    }
   ],
   "source": [
    "#Optimizing to only include columns in model where there are more entries like location, title and description.  \n",
    "#Including to manny null/blank values in the already starved fraud dataset causes issuse due to lack of data.\n",
    "\n",
    "fraud[['title', 'location','description','benefits', 'requirements', 'company_profile','employment_type' ]].isnull().sum().sort_values()"
   ]
  },
  {
   "cell_type": "code",
   "execution_count": 269,
   "metadata": {},
   "outputs": [],
   "source": [
    "#Change each chosen entry into a single string\n",
    "#Columns with less null values in fraud dataset in particular are usefull\n",
    "# \\xa0 is a unicode no-break space that is prevelent in a few of the entries that needed to be removed \n",
    "\n",
    "concat_data = []\n",
    "for i in range(len(features)):\n",
    "    entry = features['description'][i] + ' '\n",
    "    entry = entry + features['title'][i] + ' '\n",
    "    entry = entry + features['location'][i] + ' '\n",
    "    entry = entry + features['employment_type'][i] \n",
    "    concat_data.append(entry.strip().replace('\\xa0', ''))  "
   ]
  },
  {
   "cell_type": "code",
   "execution_count": 270,
   "metadata": {
    "tags": [
     "Test"
    ]
   },
   "outputs": [
    {
     "data": {
      "text/plain": [
       "'IC&amp;E Technician | Bakersfield, CA Mt. PosoPrincipal Duties and Responsibilities:Calibrates, tests, maintains, troubleshoots, and installs all power plant instrumentation, control systems and electrical equipment.Performs maintenance on motor control centers, motor operated valves, generators, excitation equipment and motors.Performs preventive, predictive and corrective maintenance on equipment, coordinating work with various team members.Designs and installs new equipment and/or system modifications.Troubleshoots and performs maintenance on DC backup power equipment, process controls, programmable logic controls (PLC), and emission monitoring equipment.Uses maintenance reporting system to record time and material use, problem identified and corrected, and further action required; provides complete history of maintenance on equipment.Schedule, coordinate, work with and monitor contractors on specific tasks, as required.Follows safe working practices at all times.Identifies safety hazards and recommends solutions.Follows environmental compliance work practices.Identifies environmental non-compliance problems and assist in implementing solutions.Assists other team members and works with all departments to support generating station in achieving their performance goals.Trains other team members in the areas of instrumentation, control, and electrical systems.Performs housekeeping assignments, as directed.Conduct equipment and system tagging according to company and plant rules and regulations.Perform equipment safety inspections, as required, and record results as appropriate.Participate in small construction projects. Read and interpret drawings, sketches, prints, and specifications, as required.Orders parts as needed to affect maintenance and repair.Performs Operations tasks on an as-needed basis and other tasks as assigned.Available within a reasonable response time for emergency call-ins and overtime, plus provide acceptable off-hour contact by phone and company pager. Excellent Verbal and Written Communications Skills:Ability to coordinate work activities with other team members on technical subjects across job families.Ability to work weekends, holidays, and rotating shifts, as required. IC&E Technician US, , Stocton, CA Full-time'"
      ]
     },
     "execution_count": 270,
     "metadata": {},
     "output_type": "execute_result"
    }
   ],
   "source": [
    "#Confirming long string of data\n",
    "concat_data[0]"
   ]
  },
  {
   "cell_type": "code",
   "execution_count": 271,
   "metadata": {},
   "outputs": [
    {
     "name": "stdout",
     "output_type": "stream",
     "text": [
      "227.0\n"
     ]
    }
   ],
   "source": [
    "#finding the rough count of words in the 3rd quartile of entries to pass to the tokenizers max length\n",
    "\n",
    "seq_lens = [seq.count(' ') for seq in concat_data]\n",
    "q3 = np.quantile(seq_lens,.75)\n",
    "print(q3)"
   ]
  },
  {
   "cell_type": "code",
   "execution_count": 272,
   "metadata": {},
   "outputs": [],
   "source": [
    "#creating a layer for tokens model to change the text into numbers stripping punctuation and case\n",
    "vectorize_layer = TextVectorization(max_tokens=10000, standardize='lower_and_strip_punctuation', output_sequence_length=int(q3))\n",
    "\n",
    "#training token layer\n",
    "vectorize_layer.adapt(concat_data)"
   ]
  },
  {
   "cell_type": "code",
   "execution_count": 273,
   "metadata": {},
   "outputs": [
    {
     "name": "stdout",
     "output_type": "stream",
     "text": [
      "278/278 [==============================] - 1s 2ms/step\n"
     ]
    }
   ],
   "source": [
    "#Using tf to make a tokenizer\n",
    "#Model can be used to map future datasets and keep tokens consitent\n",
    "\n",
    "Tokens = tf.keras.models.Sequential()\n",
    "Tokens.add(tf.keras.Input(shape=(1,), dtype=tf.string))\n",
    "Tokens.add(vectorize_layer)\n",
    "x_tokens = Tokens.predict(concat_data)\n",
    "\n",
    "#Option to save tokenizer\n",
    "#Tokens.save('tokenizer.tf')"
   ]
  },
  {
   "cell_type": "code",
   "execution_count": 274,
   "metadata": {},
   "outputs": [
    {
     "name": "stdout",
     "output_type": "stream",
     "text": [
      "[ 169  156 1264    1   70  621   49   10   81    8    3    1  950 2138\n",
      "    2 1532    5    3    1  571 7275   70  621  295   16 2615    1    1\n",
      "   70   23  294    1  135    3 7275   70  621    1    2 1238    3  195\n",
      "    5    3 7275    1    2  491    3  835    5    3 7275   70    1  135\n",
      "    2 1238    3   70 5966    5    3    1    5    1    2  135    3 7275\n",
      "    1    1    2   47    3 7275  817  102    1    3 7275   70    5  153\n",
      " 3396    2    1    2   47    3 7275   70 2325  195    1    3 7275 1425\n",
      "  796    2  176   70    1 1397    1    5    3    1 2029    1  258   16\n",
      "  214   36    3 7275  232    1    2    1    2   34 9977  144    6 2405\n",
      "    9    6  725  356  134    5   34    7    1    1    6  189   97   14\n",
      "   27    6    1    5  227 1430  153   70  351   64    1   47    5 5791\n",
      "   24    1  845    1    1   70 2077   34    9    1    1  621  195   10\n",
      "    1   61    3   97  101   15    1 1233  821  390    5   78    9    1\n",
      "    2  405   61    2    3 1486    4 4130    1   16    6   42    4    3\n",
      "  203    2    1    5 7275    3   97  101   15  117    4    1  397  579\n",
      "    3  195    5    3 1430  153    1    7    3 1628    5 4061 1993  433\n",
      "    2    1  846]\n"
     ]
    }
   ],
   "source": [
    "#confirming tokenization \n",
    "print(x_tokens[9])\n"
   ]
  },
  {
   "cell_type": "code",
   "execution_count": 275,
   "metadata": {},
   "outputs": [
    {
     "name": "stdout",
     "output_type": "stream",
     "text": [
      "(7092, 227)\n",
      "(1774, 227)\n",
      "(7092,)\n",
      "(1774,)\n"
     ]
    }
   ],
   "source": [
    "#building testing and training groups for the model\n",
    "x_train,x_test,y_train,y_test = train_test_split(x_tokens,target,test_size=0.2,random_state=42)\n",
    "print(x_train.shape)\n",
    "print(x_test.shape)\n",
    "print(y_train.shape)\n",
    "print(y_test.shape)"
   ]
  },
  {
   "cell_type": "code",
   "execution_count": 276,
   "metadata": {},
   "outputs": [],
   "source": [
    "#setting input sizes for the first layer\n",
    "\n",
    "VOCAB_SIZE = 10000 + 1\n",
    "VEC_SIZE = 100\n",
    "TOKEN_SIZE = int(q3)"
   ]
  },
  {
   "cell_type": "code",
   "execution_count": 277,
   "metadata": {},
   "outputs": [],
   "source": [
    "#Creating the ml model\n",
    "#using CuDNNGRU \n",
    "\n",
    "from tensorflow.compat.v1.keras.layers import CuDNNGRU\n",
    "\n",
    "model = keras.Sequential()\n",
    "model.add(layers.Embedding(input_dim=VOCAB_SIZE,\n",
    "                           output_dim=VEC_SIZE,\n",
    "                           input_length=TOKEN_SIZE\n",
    "                          ))\n",
    "\n",
    "\n",
    "\n",
    "model.add(CuDNNGRU(512,return_sequences=True))\n",
    "model.add(CuDNNGRU(1024,return_sequences=True))\n",
    "model.add(CuDNNGRU(2048))\n",
    "model.add(layers.Dense(1,activation=\"sigmoid\"))\n",
    "\n",
    "model.compile(loss=\"binary_crossentropy\",optimizer=\"adam\",metrics=[\"accuracy\"])"
   ]
  },
  {
   "cell_type": "code",
   "execution_count": 278,
   "metadata": {},
   "outputs": [
    {
     "name": "stdout",
     "output_type": "stream",
     "text": [
      "Model: \"sequential_25\"\n",
      "_________________________________________________________________\n",
      " Layer (type)                Output Shape              Param #   \n",
      "=================================================================\n",
      " embedding_13 (Embedding)    (None, 227, 100)          1000100   \n",
      "                                                                 \n",
      " cu_dnngru_39 (CuDNNGRU)     (None, 227, 512)          943104    \n",
      "                                                                 \n",
      " cu_dnngru_40 (CuDNNGRU)     (None, 227, 1024)         4724736   \n",
      "                                                                 \n",
      " cu_dnngru_41 (CuDNNGRU)     (None, 2048)              18886656  \n",
      "                                                                 \n",
      " dense_13 (Dense)            (None, 1)                 2049      \n",
      "                                                                 \n",
      "=================================================================\n",
      "Total params: 25,556,645\n",
      "Trainable params: 25,556,645\n",
      "Non-trainable params: 0\n",
      "_________________________________________________________________\n"
     ]
    }
   ],
   "source": [
    "model.summary()"
   ]
  },
  {
   "cell_type": "markdown",
   "metadata": {},
   "source": [
    
   ]
  },
  {
   "cell_type": "code",
   "execution_count": 279,
   "metadata": {},
   "outputs": [
    {
     "name": "stdout",
     "output_type": "stream",
     "text": [
      "Examples:\n",
      "    Total: 8866\n",
      "    Positive: 866 (9.77% of total)\n",
      "\n"
     ]
    }
   ],
   "source": [
    "#Gets the percent of fraudulent entries compared to the whole \n",
    "neg, pos = np.bincount(data_reduced['fraudulent'])\n",
    "total = neg + pos\n",
    "print('Examples:\\n    Total: {}\\n    Positive: {} ({:.2f}% of total)\\n'.format(\n",
    "    total, pos, 100 * pos / total))"
   ]
  },
  {
   "cell_type": "code",
   "execution_count": 280,
   "metadata": {},
   "outputs": [
    {
     "name": "stdout",
     "output_type": "stream",
     "text": [
      "Weight for class 0: 0.55\n",
      "Weight for class 1: 5.12\n"
     ]
    }
   ],
   "source": [
    "#setting class weights based on how many true and false fraud entries there are so the model is not overwelmed by the large amount of legitimate emails\n",
    "weight_for_0 = (1 / neg) * (total / 2.0)\n",
    "weight_for_1 = (1 / pos) * (total / 2.0)\n",
    "\n",
    "class_weight = {0: weight_for_0, 1: weight_for_1}\n",
    "\n",
    "print('Weight for class 0: {:.2f}'.format(weight_for_0))\n",
    "print('Weight for class 1: {:.2f}'.format(weight_for_1))"
   ]
  },
  {
   "cell_type": "markdown",
   "metadata": {},
   "source": [
    
   ]
  },
  {
   "cell_type": "code",
   "execution_count": 281,
   "metadata": {},
   "outputs": [
    {
     "name": "stdout",
     "output_type": "stream",
     "text": [
      "Epoch 1/13\n",
      "222/222 [==============================] - 47s 207ms/step - loss: 0.7314 - accuracy: 0.4784\n",
      "Epoch 2/13\n",
      "222/222 [==============================] - 46s 206ms/step - loss: 0.5942 - accuracy: 0.6383\n",
      "Epoch 3/13\n",
      "222/222 [==============================] - 46s 208ms/step - loss: 0.3480 - accuracy: 0.8460\n",
      "Epoch 4/13\n",
      "222/222 [==============================] - 46s 208ms/step - loss: 0.3757 - accuracy: 0.8299\n",
      "Epoch 5/13\n",
      "222/222 [==============================] - 46s 206ms/step - loss: 0.4222 - accuracy: 0.8025\n",
      "Epoch 6/13\n",
      "222/222 [==============================] - 47s 210ms/step - loss: 0.3072 - accuracy: 0.8697\n",
      "Epoch 7/13\n",
      "222/222 [==============================] - 46s 206ms/step - loss: 0.2633 - accuracy: 0.8917\n",
      "Epoch 8/13\n",
      "222/222 [==============================] - 45s 204ms/step - loss: 0.2382 - accuracy: 0.8981\n",
      "Epoch 9/13\n",
      "222/222 [==============================] - 46s 205ms/step - loss: 0.2085 - accuracy: 0.9169\n",
      "Epoch 10/13\n",
      "222/222 [==============================] - 46s 205ms/step - loss: 0.1793 - accuracy: 0.9239\n",
      "Epoch 11/13\n",
      "222/222 [==============================] - 47s 210ms/step - loss: 0.1738 - accuracy: 0.9327\n",
      "Epoch 12/13\n",
      "222/222 [==============================] - 46s 207ms/step - loss: 0.1521 - accuracy: 0.9423\n",
      "Epoch 13/13\n",
      "222/222 [==============================] - 46s 206ms/step - loss: 0.1511 - accuracy: 0.9418\n"
     ]
    }
   ],
   "source": [
    "#Training the model\n",
    "hist = model.fit(x_train,y_train,epochs=13, class_weight=class_weight)"
   ]
  },
  {
   "cell_type": "code",
   "execution_count": 283,
   "metadata": {},
   "outputs": [
    {
     "name": "stdout",
     "output_type": "stream",
     "text": [
      "56/56 - 2s - loss: 0.5643 - accuracy: 0.8140 - 2s/epoch - 27ms/step\n",
      "Loss: 0.5642573833465576, Accuracy: 0.8139796853065491\n"
     ]
    }
   ],
   "source": [
    "#Testing trained model to confirm its not over or under fitteded\n",
    "\n",
    "model_loss, model_accuracy = model.evaluate(x_test,y_test,verbose=2)\n",
    "\n",
    "print(f\"Loss: {model_loss}, Accuracy: {model_accuracy}\")"
   ]
  },
  {
   "cell_type": "code",
   "execution_count": 284,
   "metadata": {},
   "outputs": [
    {
     "name": "stdout",
     "output_type": "stream",
     "text": [
      "56/56 [==============================] - 2s 26ms/step\n"
     ]
    }
   ],
   "source": [
    "#making predicitons on the test data for the confusion matrix\n",
    "y_pred = model.predict(x_test)\n",
    "\n",
    "#Due to the use of the sigmoid output function when building the model, values come in probablities between 1 and 0\n",
    "#below funciton converts it from probablitiy to boolean values or true/false\n",
    "y_pred = np.where(y_pred > .5, 1,0)"
   ]
  },
  {
   "cell_type": "code",
   "execution_count": 285,
   "metadata": {},
   "outputs": [
    {
     "name": "stdout",
     "output_type": "stream",
     "text": [
      "Accuracy score of model is 81.39797068771138%\n"
     ]
    },
    {
     "data": {
      "image/png": "[encoded data removed]",
      "text/plain": [
       "<Figure size 640x480 with 2 Axes>"
      ]
     },
     "metadata": {},
     "output_type": "display_data"
    }
   ],
   "source": [
    "#making a Confusion Matrix using the test data\n",
    "\n",
    "print(\"Accuracy score of model is {}%\".format(accuracy_score(y_pred=y_pred,y_true=y_test)*100))\n",
    "\n",
    "\n",
    "conf_matrix = confusion_matrix(y_true=y_test ,y_pred=y_pred)\n",
    "\n",
    "cm_display = ConfusionMatrixDisplay(confusion_matrix = conf_matrix, display_labels = ['Leg', 'Fraud'])\n",
    "\n",
    "cm_display.plot()\n",
    "plt.show()"
   ]
  },
  {
   "cell_type": "code",
   "execution_count": 286,
   "metadata": {},
   "outputs": [
    {
     "name": "stdout",
     "output_type": "stream",
     "text": [
      "WARNING:tensorflow:Compiled the loaded model, but the compiled metrics have yet to be built. `model.compile_metrics` will be empty until you train or evaluate the model.\n",
      "INFO:tensorflow:Assets written to: tokenizer_finial.tf\\assets\n"
     ]
    }
   ],
   "source": [
    "#Saving model and token \n",
    "Tokens.save('tokenizer_finial.tf')\n",
    "model.save('LanguageML_finial.keras')"
   ]
  }
 ],
 "metadata": {
  "kernelspec": {
   "display_name": "tf",
   "language": "python",
   "name": "python3"
  },
  "language_info": {
   "codemirror_mode": {
    "name": "ipython",
    "version": 3
   },
   "file_extension": ".py",
   "mimetype": "text/x-python",
   "name": "python",
   "nbconvert_exporter": "python",
   "pygments_lexer": "ipython3",
   "version": "3.9.18"
  }
 },
 "nbformat": 4,
 "nbformat_minor": 2
}
